{
 "cells": [
  {
   "attachments": {},
   "cell_type": "markdown",
   "metadata": {},
   "source": [
    "A notebook that explains the idea behind waiting time and adding compound interest to a vehicle's waiting time. We start off by only considering the waiting time of a single vehicle, and then extend the idea to multiple vehicles.\n",
    "\n",
    "Let's start off with the simple example where a vehicle's waiting time increases as time passes (with no interest).\n",
    "\n",
    "$$\n",
    "\\begin{aligned}\n",
    "T_0 = 0 \\\\\n",
    "T_1 = 1 \\\\\n",
    "T_2 = 2 \\\\\n",
    "T_3 = 3 \\\\\n",
    "T_{10} = 10\n",
    "\\end{aligned}\n",
    "$$"
   ]
  },
  {
   "cell_type": "code",
   "execution_count": 29,
   "metadata": {},
   "outputs": [
    {
     "name": "stdout",
     "output_type": "stream",
     "text": [
      "waiting time @ T0: 0\n",
      "waiting time @ T1: 1\n",
      "waiting time @ T2: 2\n",
      "waiting time @ T3: 3\n",
      "waiting time @ T4: 4\n",
      "waiting time @ T5: 5\n",
      "waiting time @ T6: 6\n",
      "waiting time @ T7: 7\n",
      "waiting time @ T8: 8\n",
      "waiting time @ T9: 9\n",
      "waiting time @ T10: 10\n"
     ]
    }
   ],
   "source": [
    "waiting_time = 0 \n",
    "\n",
    "for t in range(11):\n",
    "    waiting_time = t\n",
    "    print(f'waiting time @ T{t}: {waiting_time}')"
   ]
  },
  {
   "attachments": {},
   "cell_type": "markdown",
   "metadata": {},
   "source": [
    "Another way to express the waiting time is\n",
    "\n",
    "$$\n",
    "\\begin{aligned}\n",
    "T_0 = 0 \\\\\n",
    "T_1 = T_0 +1 \\\\\n",
    "T_2 = T_1 +1 \\\\\n",
    "T_3 = T_2 +1 \\\\\n",
    "T_{10} = T_9 +1\n",
    "\\end{aligned}\n",
    "$$"
   ]
  },
  {
   "cell_type": "code",
   "execution_count": 30,
   "metadata": {},
   "outputs": [
    {
     "name": "stdout",
     "output_type": "stream",
     "text": [
      "waiting time @ T0: 0\n",
      "waiting time @ T1: 1\n",
      "waiting time @ T2: 2\n",
      "waiting time @ T3: 3\n",
      "waiting time @ T4: 4\n",
      "waiting time @ T5: 5\n",
      "waiting time @ T6: 6\n",
      "waiting time @ T7: 7\n",
      "waiting time @ T8: 8\n",
      "waiting time @ T9: 9\n",
      "waiting time @ T10: 10\n"
     ]
    }
   ],
   "source": [
    "waiting_time = 0\n",
    "for t in range(11):\n",
    "    print(f'waiting time @ T{t}: {waiting_time}')\n",
    "    waiting_time += 1"
   ]
  },
  {
   "attachments": {},
   "cell_type": "markdown",
   "metadata": {},
   "source": [
    "Matheamatically, we can express this as\n",
    "\n",
    "$$\n",
    "\\begin{aligned}\n",
    "T_n = T_{n-1} + 1\n",
    "\\end{aligned}\n",
    "$$\n",
    "\n",
    "\n"
   ]
  },
  {
   "attachments": {},
   "cell_type": "markdown",
   "metadata": {},
   "source": [
    "Next we are going to add some interest to the waiting time:\n",
    "$$\n",
    "\\begin{aligned}\n",
    "T_0 &= 0 \\\\\n",
    "T_1 &= T_0(1 +r) + 1\\\\\n",
    "T_2 &= T_1(1 +r) + 1\\\\\n",
    "T_3 &= T_2(1 +r) + 1\\\\\n",
    "T_{10} &= T_9(1 +r) + 1\n",
    "\\end{aligned}\n",
    "\n",
    "$$\n",
    "\n",
    "where $r$ is the interest rate. In the example below we are going to use $r = 0.1$. Note that we still add 1 to the waiting time. This is because the vehicle is waiting for 1 time step. Otherwise the vehicle would not be waiting at all, and we would only adding interest to the initial waiting time. The waiting time contribution at each time step can be set to the step size of the simulation. For example, if the simulation step size is 1 second, then the waiting time contribution is 1 second. If the simulation step size is 1 minute, then the waiting time contribution is 1 minute."
   ]
  },
  {
   "cell_type": "code",
   "execution_count": 31,
   "metadata": {},
   "outputs": [
    {
     "name": "stdout",
     "output_type": "stream",
     "text": [
      "waiting time @ T0: 0.00\n",
      "waiting time @ T1: 1.00\n",
      "waiting time @ T2: 2.10\n",
      "waiting time @ T3: 3.31\n",
      "waiting time @ T4: 4.64\n",
      "waiting time @ T5: 6.11\n",
      "waiting time @ T6: 7.72\n",
      "waiting time @ T7: 9.49\n",
      "waiting time @ T8: 11.44\n",
      "waiting time @ T9: 13.58\n",
      "waiting time @ T10: 15.94\n"
     ]
    }
   ],
   "source": [
    "waiting_time = 0\n",
    "interest = 0.1\n",
    "\n",
    "for t in range(11):\n",
    "    # print waiting time rounded to 2 decimal places\n",
    "    print(f'waiting time @ T{t}: {waiting_time:.2f}')\n",
    "    waiting_time = waiting_time * (1 + interest) + 1"
   ]
  },
  {
   "attachments": {},
   "cell_type": "markdown",
   "metadata": {},
   "source": [
    "In the above example, a much higher waiting time is accumulated compared to the first example without interest. This is because the interest is added to the waiting time at each time step.\n",
    "\n",
    "Next we are going to formulate the waiting time as a function of time. This is done by using the equation\n",
    "\n",
    "$$\n",
    "T_n = T_{n-1}(1 +r) + 1\n",
    "$$\n",
    "\n",
    "We can use the fact that $T_{n-1} = T_{n-2}(1+r) + 1$ to obtain the following recursive relationship\n",
    "\n",
    "The above equation can be rewritten as\n",
    "\n",
    "$$\n",
    "\\begin{aligned}\n",
    "T_n &= T_{n-2}(1+r)^2 + (1+r) + 1 \\\\\n",
    "T_n &= T_{n-3}(1+r)^3 + (1+r)^2 + (1+r) + 1 \\\\\n",
    "T_n &= T_{n-4}(1+r)^4 + (1+r)^3 + (1+r)^2 + (1+r) + 1\n",
    "\\end{aligned}\n",
    "$$\n",
    "\n",
    "\n",
    "Continuing this process we can obtain the following equation\n",
    "\n",
    "$$\n",
    "T_n = T_0(1+r)^n + \\sum_{i=0}^{n-1}(1+r)^i,\n",
    "$$\n",
    "    \n",
    "where $T_0$ is the initial waiting time. The above equation can be rewritten as\n",
    "\n",
    "$$\n",
    "T_n = T_0(1+r)^n + \\frac{(1+r)^n - 1}{r}\n",
    "$$\n",
    "\n"
   ]
  },
  {
   "cell_type": "code",
   "execution_count": 13,
   "metadata": {},
   "outputs": [],
   "source": [
    "def compound_interest(initial_amount, interest_rate, time):\n",
    "    \"\"\"Calculate compound interest for a given initial amount, interest rate and time.\"\"\"\n",
    "    return initial_amount * (1 + interest_rate) ** time + sum((1 + interest_rate) ** t  for t in range(time))"
   ]
  },
  {
   "cell_type": "code",
   "execution_count": 16,
   "metadata": {},
   "outputs": [
    {
     "data": {
      "text/plain": [
       "15.937424601000005"
      ]
     },
     "execution_count": 16,
     "metadata": {},
     "output_type": "execute_result"
    }
   ],
   "source": [
    "compound_interest(0, 0.1, 10, 1)"
   ]
  },
  {
   "attachments": {},
   "cell_type": "markdown",
   "metadata": {},
   "source": [
    "In the previous example the contribution was $1$ for each time step. This can be generalized to any value $c$.\n",
    "\n",
    "$$\n",
    "\\begin{aligned}\n",
    "T_n &= T_{n-1}(1+r) + c \\\\\n",
    "T_n &= T_{n-2}(1+r)^2 + (1+r)c + c \\\\\n",
    "T_n &= T_{n-3}(1+r)^3 + (1+r)^2c + (1+r)c + c\n",
    "\\end{aligned}\n",
    "$$\n",
    "\n",
    "If we continue this process we can obtain the following equation\n",
    "\n",
    "$$\n",
    "T_n = T_0(1+r)^n + \\sum_{i=0}^{n-1}(1+r)^i c\n",
    "$$\n",
    "\n",
    "The above equation can be rewritten as\n",
    "\n",
    "$$\n",
    "T_n = T_0(1+r)^n + \\frac{(1+r)^n - 1}{r}c\n",
    "$$\n",
    "\n",
    "Let's update the function to include the contribution $c$."
   ]
  },
  {
   "cell_type": "code",
   "execution_count": 19,
   "metadata": {},
   "outputs": [],
   "source": [
    "def compound_interest_v2(T0, r, n, c):\n",
    "    return T0*(1+r)**n + sum([(1+r)**i*c for i in range(n)])\n"
   ]
  },
  {
   "cell_type": "code",
   "execution_count": 36,
   "metadata": {},
   "outputs": [],
   "source": [
    "def compound_interest_v3(T0, r, n, c):\n",
    "    return T0*(1+r)**n + ((1 +r)**n -1)*c/r"
   ]
  },
  {
   "cell_type": "code",
   "execution_count": 49,
   "metadata": {},
   "outputs": [],
   "source": [
    "def compound_interest_v4(r, n, c):\n",
    "    return  c* ((1 - (1/(1+r)**n) )/ r)"
   ]
  },
  {
   "cell_type": "code",
   "execution_count": 50,
   "metadata": {},
   "outputs": [
    {
     "data": {
      "text/plain": [
       "15.937424601000005"
      ]
     },
     "execution_count": 50,
     "metadata": {},
     "output_type": "execute_result"
    }
   ],
   "source": [
    "compound_interest_v2(0, 0.1, 10, 1)"
   ]
  },
  {
   "cell_type": "code",
   "execution_count": 51,
   "metadata": {},
   "outputs": [
    {
     "data": {
      "text/plain": [
       "15.937424601000023"
      ]
     },
     "execution_count": 51,
     "metadata": {},
     "output_type": "execute_result"
    }
   ],
   "source": [
    "compound_interest_v3(0, 0.1, 10, 1)"
   ]
  },
  {
   "cell_type": "code",
   "execution_count": 54,
   "metadata": {},
   "outputs": [
    {
     "data": {
      "text/plain": [
       "6.144567105704685"
      ]
     },
     "execution_count": 54,
     "metadata": {},
     "output_type": "execute_result"
    }
   ],
   "source": [
    "compound_interest_v4(0.1, 10, 1)"
   ]
  },
  {
   "attachments": {},
   "cell_type": "markdown",
   "metadata": {},
   "source": [
    "Let's plot the waiting time for c=1 over 100 time steps with an interest rate of 0.001, 0,01, 0,1."
   ]
  },
  {
   "cell_type": "code",
   "execution_count": 28,
   "metadata": {},
   "outputs": [
    {
     "data": {
      "image/png": "[encoded data removed]",
      "text/plain": [
       "<Figure size 640x480 with 1 Axes>"
      ]
     },
     "metadata": {},
     "output_type": "display_data"
    }
   ],
   "source": [
    "import matplotlib.pyplot as plt\n",
    "\n",
    "for r in [0.11]:\n",
    "    waiting_times = []\n",
    "    for t in range(101):\n",
    "        waiting_times.append(compound_interest_v2(0, r, t, 1))\n",
    "    plt.plot(waiting_times, label=f'r={r}')"
   ]
  },
  {
   "attachments": {},
   "cell_type": "markdown",
   "metadata": {},
   "source": [
    "Some notes on the implementation in Sumogym and for the GA paper. The function defintion of the halting time reward function in SumoGym look like:\n",
    "\n",
    "```python\n",
    "class RewardHaltTime(RewardBase):\n",
    "    def __init__(self,\n",
    "                 halt_speed=0.1,\n",
    "                 upscale_rate=0.0,\n",
    "                 on_arrival=False,\n",
    "                 delta=False,\n",
    "                 clip=None,\n",
    "                 scale=None):\n",
    "```\n",
    "\n",
    "If `delta` is set to `True` then the reward is calculated as the difference between the current waiting time and the previous waiting time. This is done by subtracting the waiting time from the previous time step from the current waiting time. In the case of the GA paper this is set to 'False', meaning that the sum of all vehicles' compound interest waiting time is used as the reward at each time step.\n",
    "\n",
    "(The `upscale_rate` is the interest rate)\n",
    "\n",
    "So to put the above equation into perspective, we need to calculate the waiting time for each vehicle at each time step, and then sum them up. (This is the reward at each time step)\n",
    "\n",
    "To calculate the return we need to sum up the rewards over all time steps. (This is the return)\n",
    "\n",
    "The return will look something like:\n",
    "\n",
    "$$\n",
    "\\begin{aligned}\n",
    "G_T = \\sum_{j=0}^{T} \\sum_{v=0}^V \\left[T_0(1+r)^j + \\sum_{i=0}^{j-1}(1+r)^i c\\right]\n",
    "\\end{aligned}\n",
    "$$\n",
    "\n",
    "The above equation for the return does not feel completely correct to me. I think the return should be the sum of all vehicles' compound interest waiting time at the end of the episode. So the return should be\n",
    "\n",
    "$$\n",
    "\\begin{aligned}\n",
    "G_T = \\sum_{v=0}^V \\left[T_0(1+r)^T + \\sum_{i=0}^{T-1}(1+r)^i c\\right]\n",
    "\\end{aligned}\n",
    "$$\n",
    "\n",
    "And the reward should rather be the difference between the current waiting time and the previous waiting time.\n",
    "\n",
    "Therefor the reward should be\n",
    "\n",
    "$$\n",
    "\\begin{aligned}\n",
    "R_t = W_t - W_{t-1}\n",
    "\\end{aligned}\n",
    "$$\n",
    "\n",
    "where $W_t$ is the waiting time at time step $t$ (with interest)."
   ]
  },
  {
   "cell_type": "markdown",
   "metadata": {},
   "source": []
  }
 ],
 "metadata": {
  "kernelspec": {
   "display_name": "gen",
   "language": "python",
   "name": "python3"
  },
  "language_info": {
   "codemirror_mode": {
    "name": "ipython",
    "version": 3
   },
   "file_extension": ".py",
   "mimetype": "text/x-python",
   "name": "python",
   "nbconvert_exporter": "python",
   "pygments_lexer": "ipython3",
   "version": "3.8.8"
  },
  "orig_nbformat": 4,
  "vscode": {
   "interpreter": {
    "hash": "1c8495b040ab76e356e4211c1da568b080f62f3556ad0574aa3ae0d3327db724"
   }
  }
 },
 "nbformat": 4,
 "nbformat_minor": 2
}

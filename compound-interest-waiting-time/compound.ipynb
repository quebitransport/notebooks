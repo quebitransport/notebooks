{
 "cells": [
  {
   "attachments": {},
   "cell_type": "markdown",
   "metadata": {},
   "source": [
    "A notebook that explains the idea behind waiting time and adding compound interest to a vehicle's waiting time."
   ]
  },
  {
   "attachments": {},
   "cell_type": "markdown",
   "metadata": {},
   "source": [
    "Let's start off with the simple example where a vehicle's waiting time increases as time passes (with no interest).\n",
    "\n",
    "$$\n",
    "\\begin{aligned}\n",
    "T_0 = 0 \\\\\n",
    "T_1 = 1 \\\\\n",
    "T_2 = 2 \\\\\n",
    "T_3 = 3 \\\\\n",
    "T_{10} = 10\n",
    "\\end{aligned}\n",
    "$$"
   ]
  },
  {
   "cell_type": "code",
   "execution_count": 2,
   "metadata": {},
   "outputs": [
    {
     "name": "stdout",
     "output_type": "stream",
     "text": [
      "waiting_time T0: 0\n",
      "waiting_time T1: 1\n",
      "waiting_time T2: 2\n",
      "waiting_time T3: 3\n",
      "waiting_time T4: 4\n",
      "waiting_time T5: 5\n",
      "waiting_time T6: 6\n",
      "waiting_time T7: 7\n",
      "waiting_time T8: 8\n",
      "waiting_time T9: 9\n",
      "waiting_time T10: 10\n"
     ]
    }
   ],
   "source": [
    "waiting_time = 0 \n",
    "\n",
    "for t in range(11):\n",
    "    waiting_time = t\n",
    "    print(f'waiting_time T{t}: {waiting_time}')"
   ]
  },
  {
   "cell_type": "code",
   "execution_count": null,
   "metadata": {},
   "outputs": [],
   "source": []
  }
 ],
 "metadata": {
  "kernelspec": {
   "display_name": "gen",
   "language": "python",
   "name": "python3"
  },
  "language_info": {
   "codemirror_mode": {
    "name": "ipython",
    "version": 3
   },
   "file_extension": ".py",
   "mimetype": "text/x-python",
   "name": "python",
   "nbconvert_exporter": "python",
   "pygments_lexer": "ipython3",
   "version": "3.8.8"
  },
  "orig_nbformat": 4,
  "vscode": {
   "interpreter": {
    "hash": "1c8495b040ab76e356e4211c1da568b080f62f3556ad0574aa3ae0d3327db724"
   }
  }
 },
 "nbformat": 4,
 "nbformat_minor": 2
}
